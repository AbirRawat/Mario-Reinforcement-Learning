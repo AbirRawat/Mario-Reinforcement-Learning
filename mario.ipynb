{
 "cells": [
  {
   "cell_type": "markdown",
   "id": "44804da0-7cdf-4e68-8d01-4f256af37444",
   "metadata": {},
   "source": [
    "SETUP MARIO"
   ]
  },
  {
   "cell_type": "code",
   "execution_count": 1,
   "id": "6072ad5d-85e9-4f54-b475-60ebb43b3f28",
   "metadata": {
    "collapsed": true,
    "jupyter": {
     "outputs_hidden": true
    }
   },
   "outputs": [
    {
     "name": "stdout",
     "output_type": "stream",
     "text": [
      "Requirement already satisfied: gym_super_mario_bros==7.3.0 in c:\\python 3.11\\lib\\site-packages (7.3.0)\n",
      "Requirement already satisfied: nes_py in c:\\python 3.11\\lib\\site-packages (8.2.1)\n",
      "Requirement already satisfied: gym>=0.17.2 in c:\\python 3.11\\lib\\site-packages (from nes_py) (0.26.2)\n",
      "Requirement already satisfied: numpy>=1.18.5 in c:\\python 3.11\\lib\\site-packages (from nes_py) (1.26.2)\n",
      "Requirement already satisfied: pyglet<=1.5.21,>=1.4.0 in c:\\python 3.11\\lib\\site-packages (from nes_py) (1.5.21)\n",
      "Requirement already satisfied: tqdm>=4.48.2 in c:\\python 3.11\\lib\\site-packages (from nes_py) (4.66.1)\n",
      "Requirement already satisfied: cloudpickle>=1.2.0 in c:\\python 3.11\\lib\\site-packages (from gym>=0.17.2->nes_py) (3.0.0)\n",
      "Requirement already satisfied: gym-notices>=0.0.4 in c:\\python 3.11\\lib\\site-packages (from gym>=0.17.2->nes_py) (0.0.8)\n",
      "Requirement already satisfied: colorama in c:\\python 3.11\\lib\\site-packages (from tqdm>=4.48.2->nes_py) (0.4.4)\n"
     ]
    }
   ],
   "source": [
    "# !pip install gym_super_mario_bros==7.3.0 nes_py"
   ]
  },
  {
   "cell_type": "code",
   "execution_count": 1,
   "id": "42776af6-1818-4ae1-917f-badca8634293",
   "metadata": {},
   "outputs": [],
   "source": [
    "# Import the GAME\n",
    "import gym_super_mario_bros\n",
    "# Import thJoypad wrapper\n",
    "from nes_py.wrappers import JoypadSpace\n",
    "# Import the SIMPLFIED control(basics)\n",
    "from gym_super_mario_bros.actions import SIMPLE_MOVEMENT\n",
    "import gym"
   ]
  },
  {
   "cell_type": "code",
   "execution_count": 2,
   "id": "5ead68ab-3c19-4fc1-b885-79abed7ea59e",
   "metadata": {},
   "outputs": [
    {
     "name": "stderr",
     "output_type": "stream",
     "text": [
      "C:\\Python 3.11\\Lib\\site-packages\\gym\\envs\\registration.py:555: UserWarning: \u001b[33mWARN: The environment SuperMarioBros-v0 is out of date. You should consider upgrading to version `v3`.\u001b[0m\n",
      "  logger.warn(\n",
      "C:\\Python 3.11\\Lib\\site-packages\\gym\\envs\\registration.py:627: UserWarning: \u001b[33mWARN: The environment creator metadata doesn't include `render_modes`, contains: ['render.modes', 'video.frames_per_second']\u001b[0m\n",
      "  logger.warn(\n"
     ]
    }
   ],
   "source": [
    "# Setup GAME \n",
    "env = gym.make('SuperMarioBros-v0', apply_api_compatibility=True, render_mode=\"human\")\n",
    "env = JoypadSpace(env, SIMPLE_MOVEMENT)"
   ]
  },
  {
   "cell_type": "code",
   "execution_count": null,
   "id": "fe0d5f60-d656-4751-935e-1f4202dafb25",
   "metadata": {},
   "outputs": [
    {
     "name": "stderr",
     "output_type": "stream",
     "text": [
      "C:\\Python 3.11\\Lib\\site-packages\\gym\\utils\\passive_env_checker.py:233: DeprecationWarning: `np.bool8` is a deprecated alias for `np.bool_`.  (Deprecated NumPy 1.24)\n",
      "  if not isinstance(terminated, (bool, np.bool8)):\n",
      "C:\\Python 3.11\\Lib\\site-packages\\gym\\utils\\passive_env_checker.py:272: UserWarning: \u001b[33mWARN: No render modes was declared in the environment (env.metadata['render_modes'] is None or not defined), you may have trouble when calling `.render()`.\u001b[0m\n",
      "  logger.warn(\n",
      "C:\\Python 3.11\\Lib\\site-packages\\gym_super_mario_bros\\smb_env.py:148: RuntimeWarning: overflow encountered in scalar subtract\n",
      "  return (self.ram[0x86] - self.ram[0x071c]) % 256\n"
     ]
    }
   ],
   "source": [
    "#  Restart the GAME or not: Create Flag\n",
    "done = True\n",
    "for step in range(1000000):                                            # Loop through each frame\n",
    "    if done:                                                          # Start\n",
    "        env.reset()                                                   # Restart\n",
    "    state, reward, done, info, close = env.step(env.action_space.sample())   #  Go through all actions and pefrom a random action (out of 7)    \n",
    "    env.render()                                                      # Show the game\n",
    "env.close                                                             # Close the  game"
   ]
  },
  {
   "cell_type": "markdown",
   "id": "d566047c-b865-48cb-a570-b1ed84bad75e",
   "metadata": {},
   "source": [
    "Preprocess Environment"
   ]
  },
  {
   "cell_type": "code",
   "execution_count": 6,
   "id": "15d1d89f-bd81-47f0-8158-c1398eb57ab7",
   "metadata": {},
   "outputs": [],
   "source": [
    "# Install pytorch\n",
    "# !pip install torch==1.10.1+cu113 torchvision==0.11.2+cu113 torchaudio===0.10.1+cu113 -f https://download.pytorch.org/whl/cu113/torch_stable.html"
   ]
  },
  {
   "cell_type": "code",
   "execution_count": 7,
   "id": "746e4b60-1d05-4ceb-8c90-eab5d3171280",
   "metadata": {},
   "outputs": [],
   "source": [
    "# Install stable baselines for RL stuff\n",
    "# !pip install stable-baselines3[extra]"
   ]
  },
  {
   "cell_type": "code",
   "execution_count": 8,
   "id": "4382ba8d-ae38-4a5d-b17f-7abb32e834aa",
   "metadata": {},
   "outputs": [
    {
     "ename": "ModuleNotFoundError",
     "evalue": "No module named 'stable_baselines3'",
     "output_type": "error",
     "traceback": [
      "\u001b[1;31m---------------------------------------------------------------------------\u001b[0m",
      "\u001b[1;31mModuleNotFoundError\u001b[0m                       Traceback (most recent call last)",
      "Cell \u001b[1;32mIn[8], line 4\u001b[0m\n\u001b[0;32m      2\u001b[0m \u001b[38;5;28;01mfrom\u001b[39;00m \u001b[38;5;21;01mgym\u001b[39;00m\u001b[38;5;21;01m.\u001b[39;00m\u001b[38;5;21;01mwrappers\u001b[39;00m \u001b[38;5;28;01mimport\u001b[39;00m GrayScaleObservation\n\u001b[0;32m      3\u001b[0m \u001b[38;5;66;03m# Import Vectorization Wrappers\u001b[39;00m\n\u001b[1;32m----> 4\u001b[0m \u001b[38;5;28;01mfrom\u001b[39;00m \u001b[38;5;21;01mstable_baselines3\u001b[39;00m\u001b[38;5;21;01m.\u001b[39;00m\u001b[38;5;21;01mcommon\u001b[39;00m\u001b[38;5;21;01m.\u001b[39;00m\u001b[38;5;21;01mvec_env\u001b[39;00m \u001b[38;5;28;01mimport\u001b[39;00m VecFrameStack, DummyVecEnv\n\u001b[0;32m      5\u001b[0m \u001b[38;5;66;03m# Import Matplotlib to show the impact of frame stacking\u001b[39;00m\n\u001b[0;32m      6\u001b[0m \u001b[38;5;28;01mfrom\u001b[39;00m \u001b[38;5;21;01mmatplotlib\u001b[39;00m \u001b[38;5;28;01mimport\u001b[39;00m pyplot \u001b[38;5;28;01mas\u001b[39;00m plt\n",
      "\u001b[1;31mModuleNotFoundError\u001b[0m: No module named 'stable_baselines3'"
     ]
    }
   ],
   "source": [
    "# Import Frame Stacker Wrapper and GrayScaling Wrapper\n",
    "from gym.wrappers import GrayScaleObservation\n",
    "# Import Vectorization Wrappers\n",
    "from stable_baselines3.common.vec_env import VecFrameStack, DummyVecEnv\n",
    "# Import Matplotlib to show the impact of frame stacking\n",
    "from matplotlib import pyplot as plt"
   ]
  },
  {
   "cell_type": "code",
   "execution_count": null,
   "id": "842a74ed-ca61-4da0-8d31-de1f28d94532",
   "metadata": {},
   "outputs": [],
   "source": [
    "# 1. Create the base environment\n",
    "env = gym_super_mario_bros.make('SuperMarioBros-v0')\n",
    "# 2. Simplify the controls \n",
    "env = JoypadSpace(env, SIMPLE_MOVEMENT)\n",
    "# 3. Grayscale\n",
    "env = GrayScaleObservation(env, keep_dim=True)\n",
    "# 4. Wrap inside the Dummy Environment\n",
    "env = DummyVecEnv([lambda: env])\n",
    "# 5. Stack the frames\n",
    "env = VecFrameStack(env, 4, channels_order='last')"
   ]
  },
  {
   "cell_type": "code",
   "execution_count": null,
   "id": "d47f8604-f7fd-464c-a97d-dee0fa2b26fd",
   "metadata": {},
   "outputs": [],
   "source": [
    "state = env.reset()"
   ]
  },
  {
   "cell_type": "code",
   "execution_count": null,
   "id": "877eb0bf-f9dc-461e-a715-10fd64b3e486",
   "metadata": {},
   "outputs": [],
   "source": [
    "state, reward, done, info = env.step([5])"
   ]
  },
  {
   "cell_type": "code",
   "execution_count": null,
   "id": "ba89317c-0475-47f1-b22c-5863eb1cdaa7",
   "metadata": {},
   "outputs": [],
   "source": [
    "plt.figure(figsize=(20,16))\n",
    "for idx in range(state.shape[3]):\n",
    "    plt.subplot(1,4,idx+1)\n",
    "    plt.imshow(state[0][:,:,idx])\n",
    "plt.show()"
   ]
  },
  {
   "cell_type": "markdown",
   "id": "6d0bb467-f648-4d2f-9776-dc8cf7b8ba4f",
   "metadata": {},
   "source": [
    "Train the RL Model"
   ]
  },
  {
   "cell_type": "code",
   "execution_count": null,
   "id": "d248e422-df54-42a3-a32f-338685ac3785",
   "metadata": {},
   "outputs": [],
   "source": [
    "# Import os for file path management\n",
    "import os \n",
    "# Import PPO for algos\n",
    "from stable_baselines3 import PPO\n",
    "# Import Base Callback for saving models\n",
    "from stable_baselines3.common.callbacks import BaseCallback"
   ]
  },
  {
   "cell_type": "code",
   "execution_count": null,
   "id": "88c50e88-b6f4-44d7-9288-af187cda090e",
   "metadata": {},
   "outputs": [],
   "source": [
    "class TrainAndLoggingCallback(BaseCallback):\n",
    "\n",
    "    def __init__(self, check_freq, save_path, verbose=1):\n",
    "        super(TrainAndLoggingCallback, self).__init__(verbose)\n",
    "        self.check_freq = check_freq\n",
    "        self.save_path = save_path\n",
    "\n",
    "    def _init_callback(self):\n",
    "        if self.save_path is not None:\n",
    "            os.makedirs(self.save_path, exist_ok=True)\n",
    "\n",
    "    def _on_step(self):\n",
    "        if self.n_calls % self.check_freq == 0:\n",
    "            model_path = os.path.join(self.save_path, 'best_model_{}'.format(self.n_calls))\n",
    "            self.model.save(model_path)\n",
    "\n",
    "        return True"
   ]
  },
  {
   "cell_type": "code",
   "execution_count": null,
   "id": "b1a29cd3-c177-49e3-b85e-c03043c16c4c",
   "metadata": {},
   "outputs": [],
   "source": [
    "CHECKPOINT_DIR = './train/'\n",
    "LOG_DIR = './logs/'"
   ]
  },
  {
   "cell_type": "code",
   "execution_count": null,
   "id": "3731deaf-08d5-4931-975c-1d0929459e7f",
   "metadata": {},
   "outputs": [],
   "source": [
    "# Setup model saving callback\n",
    "callback = TrainAndLoggingCallback(check_freq=10000, save_path=CHECKPOINT_DIR)"
   ]
  },
  {
   "cell_type": "code",
   "execution_count": null,
   "id": "c05ecff3-2945-47b9-8463-17ea1c127622",
   "metadata": {},
   "outputs": [],
   "source": [
    "# This is the AI model started\n",
    "model = PPO('CnnPolicy', env, verbose=1, tensorboard_log=LOG_DIR, learning_rate=0.000001, \n",
    "            n_steps=512"
   ]
  },
  {
   "cell_type": "code",
   "execution_count": null,
   "id": "341afb8e-87da-4b6e-a939-91ff3dfdae73",
   "metadata": {},
   "outputs": [],
   "source": [
    "#Train the AI model, this is where the AI model starts to learn\n",
    "model.learn(total_timesteps=1000000, callback=callback)"
   ]
  },
  {
   "cell_type": "code",
   "execution_count": null,
   "id": "0ce35126-7e56-42c9-9d4c-d0c1015f3f84",
   "metadata": {},
   "outputs": [],
   "source": [
    "model.save('thisisatestmodel')"
   ]
  },
  {
   "cell_type": "markdown",
   "id": "b583da19-9321-4f21-bf12-f7f176fdc99f",
   "metadata": {},
   "source": [
    "Testing"
   ]
  },
  {
   "cell_type": "code",
   "execution_count": null,
   "id": "bdc55f6a-069a-4469-a48f-d4167eb82e43",
   "metadata": {},
   "outputs": [],
   "source": [
    "# Load model\n",
    "model = PPO.load('./train/best_model_1000000')"
   ]
  },
  {
   "cell_type": "code",
   "execution_count": null,
   "id": "cd8fab7f-5d33-4c23-b970-80b3512a3fce",
   "metadata": {},
   "outputs": [],
   "source": [
    "state = env.reset()"
   ]
  },
  {
   "cell_type": "code",
   "execution_count": null,
   "id": "78ca2ac6-de12-4549-b50e-58f663711cca",
   "metadata": {},
   "outputs": [],
   "source": [
    "# Start the game \n",
    "state = env.reset()\n",
    "# Loop through the game\n",
    "while True: \n",
    "    \n",
    "    action, _ = model.predict(state)\n",
    "    state, reward, done, info = env.step(action)\n",
    "    env.render()"
   ]
  },
  {
   "cell_type": "code",
   "execution_count": null,
   "id": "64986246-84ca-42d1-84f8-3f20cbcc0bcc",
   "metadata": {},
   "outputs": [],
   "source": []
  }
 ],
 "metadata": {
  "kernelspec": {
   "display_name": "Python 3 (ipykernel)",
   "language": "python",
   "name": "python3"
  },
  "language_info": {
   "codemirror_mode": {
    "name": "ipython",
    "version": 3
   },
   "file_extension": ".py",
   "mimetype": "text/x-python",
   "name": "python",
   "nbconvert_exporter": "python",
   "pygments_lexer": "ipython3",
   "version": "3.11.1"
  }
 },
 "nbformat": 4,
 "nbformat_minor": 5
}
